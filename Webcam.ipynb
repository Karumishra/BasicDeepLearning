{
 "cells": [
  {
   "cell_type": "code",
   "execution_count": 1,
   "metadata": {},
   "outputs": [],
   "source": [
    "import matplotlib.pyplot as plt \n",
    "import numpy as np \n",
    "import os \n",
    "import cv2 #computer vision\n",
    "import time\n"
   ]
  },
  {
   "cell_type": "code",
   "execution_count": 2,
   "metadata": {},
   "outputs": [
    {
     "name": "stdout",
     "output_type": "stream",
     "text": [
      "saved file webcam.mp4\n"
     ]
    }
   ],
   "source": [
    "cap = cv2.VideoCapture(0) # Define the codec and create VideoWriter object\n",
    "fourcc = cv2.VideoWriter_fourcc(*'XVID') \n",
    "fname = 'webcam.mp4' \n",
    "out = cv2.VideoWriter(fname,fourcc, 20.0, (640,480)) \n",
    "interval = 15  # secs \n",
    "timeout = time.time() + interval \n",
    "while(cap.isOpened()):    \n",
    "    ret, frame = cap.read()    \n",
    "    if ret==True:        \n",
    "        out.write(frame)        \n",
    "        cv2.imshow('frame',frame)        \n",
    "        if (cv2.waitKey(1) & 0xFF == ord('q')) or (time.time() > timeout):            \n",
    "            break    \n",
    "        else:        \n",
    "            break # Release everything if job is finished \n",
    "cap.release() \n",
    "out.release() \n",
    "cv2.destroyAllWindows() \n",
    "print('saved file {}'.format(fname))\n"
   ]
  },
  {
   "cell_type": "code",
   "execution_count": null,
   "metadata": {},
   "outputs": [],
   "source": []
  },
  {
   "cell_type": "code",
   "execution_count": null,
   "metadata": {},
   "outputs": [],
   "source": []
  }
 ],
 "metadata": {
  "kernelspec": {
   "display_name": "campenv",
   "language": "python",
   "name": "campenv"
  },
  "language_info": {
   "codemirror_mode": {
    "name": "ipython",
    "version": 3
   },
   "file_extension": ".py",
   "mimetype": "text/x-python",
   "name": "python",
   "nbconvert_exporter": "python",
   "pygments_lexer": "ipython3",
   "version": "3.6.6"
  }
 },
 "nbformat": 4,
 "nbformat_minor": 2
}
